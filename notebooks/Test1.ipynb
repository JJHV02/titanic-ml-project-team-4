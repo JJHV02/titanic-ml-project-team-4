{
 "cells": [
  {
   "cell_type": "code",
   "execution_count": null,
   "id": "0534fe1b",
   "metadata": {},
   "outputs": [],
   "source": [
    "#hola"
   ]
  }
 ],
 "metadata": {
  "language_info": {
   "name": "python"
  }
 },
 "nbformat": 4,
 "nbformat_minor": 5
}
